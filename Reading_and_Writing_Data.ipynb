{
 "cells": [
  {
   "cell_type": "markdown",
   "metadata": {
    "id": "Zy9n70h6qajg"
   },
   "source": [
    "# File Handling"
   ]
  },
  {
   "cell_type": "markdown",
   "metadata": {
    "id": "s-OqI_O4qk0P"
   },
   "source": [
    "## Opening and Closing a File"
   ]
  },
  {
   "cell_type": "code",
   "execution_count": null,
   "metadata": {
    "id": "vr7oirKXqgrZ"
   },
   "outputs": [],
   "source": [
    "file = open(\"example.txt\", \"r\")\n",
    "print(file.read())\n",
    "file.close()"
   ]
  },
  {
   "cell_type": "code",
   "execution_count": null,
   "metadata": {
    "id": "U3owUNeBjo2k"
   },
   "outputs": [],
   "source": [
    "import os\n",
    "os.getcwd()"
   ]
  },
  {
   "cell_type": "markdown",
   "metadata": {
    "id": "N5n1Yh4qqtQ8"
   },
   "source": [
    "## Reading Files"
   ]
  },
  {
   "cell_type": "code",
   "execution_count": null,
   "metadata": {
    "id": "NezsOHbKqurg"
   },
   "outputs": [],
   "source": [
    "import os\n",
    "\n",
    "with open(os.path.join(\"Data\",\"example.txt\"), \"r\") as file:\n",
    "    content = file.read()\n",
    "    print(content)"
   ]
  },
  {
   "cell_type": "code",
   "execution_count": null,
   "metadata": {
    "id": "yCGx452Xq1n_"
   },
   "outputs": [],
   "source": [
    "with open(\"example.txt\", \"r\") as file:\n",
    "    for line in file:\n",
    "        print(line.strip())"
   ]
  },
  {
   "cell_type": "code",
   "execution_count": null,
   "metadata": {
    "id": "fqcohEdUq5Gt"
   },
   "outputs": [],
   "source": [
    "with open(\"example.txt\", \"r\") as file:\n",
    "    print(file.read(10))"
   ]
  },
  {
   "cell_type": "markdown",
   "metadata": {
    "id": "734JDyUNq8fH"
   },
   "source": [
    "## Writing to a File"
   ]
  },
  {
   "cell_type": "markdown",
   "metadata": {
    "id": "NUiJ6kCzresq"
   },
   "source": [
    "## File Modes\n",
    "\n",
    "| Mode  | Description                         |\n",
    "|-------|-------------------------------------|\n",
    "| `r`   | Open a file for reading (default).  |\n",
    "| `w`   | Open a file for writing (creates a new file or overwrites if it exists). |\n",
    "| `a`   | Open a file for appending (creates a new file if it doesn't exist). |\n",
    "| `r+`  | Open a file for both reading and writing. |\n",
    "| `w+`  | Open a file for both reading and writing (overwrites file if it exists). |\n",
    "| `a+`  | Open a file for both appending and reading. |\n",
    "| `b`   | Open a file in binary mode.         |\n",
    "| `t`   | Open a file in text mode (default). |\n",
    "| `x`   | Create a new file and open it for writing (fails if the file exists). |\n"
   ]
  },
  {
   "cell_type": "markdown",
   "metadata": {
    "id": "LegNt1SrrD5u"
   },
   "source": [
    "## Overwrite File Content"
   ]
  },
  {
   "cell_type": "code",
   "execution_count": null,
   "metadata": {
    "id": "DmZ0Ca5rrAgs"
   },
   "outputs": [],
   "source": [
    "with open(\"example.txt\", \"w\") as file:\n",
    "    file.write(\"This is new content.\")"
   ]
  },
  {
   "cell_type": "markdown",
   "metadata": {
    "id": "td_6RXElrIm2"
   },
   "source": [
    "## Append to a File"
   ]
  },
  {
   "cell_type": "code",
   "execution_count": null,
   "metadata": {
    "id": "5zWgVNBfrBn2"
   },
   "outputs": [],
   "source": [
    "with open(\"example.txt\", \"a\") as file:\n",
    "    file.write(\"\\nThis is additional content.\")"
   ]
  },
  {
   "cell_type": "markdown",
   "metadata": {
    "id": "PVu5VMlQrTMd"
   },
   "source": [
    "## Writing Binary Data"
   ]
  },
  {
   "cell_type": "code",
   "execution_count": null,
   "metadata": {
    "id": "SDq31-ZTrVCM"
   },
   "outputs": [],
   "source": [
    "with open(\"example.bin\", \"wb\") as file:\n",
    "    file.write(b\"This is binary data.\")"
   ]
  },
  {
   "cell_type": "markdown",
   "metadata": {
    "id": "-bdgjDXqrXzU"
   },
   "source": [
    "## Reading Binary Data"
   ]
  },
  {
   "cell_type": "code",
   "execution_count": null,
   "metadata": {
    "id": "psLDtRvqrZ-v"
   },
   "outputs": [],
   "source": [
    "with open(\"example.bin\", \"rb\") as file:\n",
    "    binary_data = file.read()\n",
    "    print(binary_data)"
   ]
  },
  {
   "cell_type": "markdown",
   "metadata": {
    "id": "9aHquDcErda-"
   },
   "source": [
    "## Checking if File Exists"
   ]
  },
  {
   "cell_type": "code",
   "execution_count": null,
   "metadata": {
    "colab": {
     "base_uri": "https://localhost:8080/"
    },
    "id": "vAhUFCVsr4qx",
    "outputId": "9f606e71-3016-4304-b238-d04597c4d166"
   },
   "outputs": [
    {
     "name": "stdout",
     "output_type": "stream",
     "text": [
      "File does not exist.\n"
     ]
    }
   ],
   "source": [
    "import os\n",
    "\n",
    "if os.path.exists(\"example.txt\"):\n",
    "    print(\"File exists.\")\n",
    "else:\n",
    "    print(\"File does not exist.\")"
   ]
  },
  {
   "cell_type": "markdown",
   "metadata": {
    "id": "gnJvMb2lr9Hq"
   },
   "source": [
    "## Deleting File"
   ]
  },
  {
   "cell_type": "code",
   "execution_count": null,
   "metadata": {
    "id": "1Zm3_8ndr_B_"
   },
   "outputs": [],
   "source": [
    "import os\n",
    "\n",
    "if os.path.exists(\"example.txt\"):\n",
    "    os.remove(\"example.txt\")\n",
    "    print(\"File deleted.\")\n",
    "else:\n",
    "    print(\"File does not exist.\")"
   ]
  },
  {
   "cell_type": "markdown",
   "metadata": {
    "id": "bpTkubKMpWMZ"
   },
   "source": [
    "# CSV files"
   ]
  },
  {
   "cell_type": "markdown",
   "metadata": {
    "id": "S9R0_th1phKA"
   },
   "source": [
    "## Reading and Writing CSV Files"
   ]
  },
  {
   "cell_type": "code",
   "execution_count": null,
   "metadata": {
    "id": "r3THwBOGpP9F"
   },
   "outputs": [],
   "source": [
    "import pandas as pd\n",
    "df = pd.read_csv('data.csv')\n",
    "print(df.head())"
   ]
  },
  {
   "cell_type": "markdown",
   "metadata": {
    "id": "BCWITkmopblI"
   },
   "source": [
    "## Reading and Writing Excel Files"
   ]
  },
  {
   "cell_type": "code",
   "execution_count": null,
   "metadata": {
    "id": "QoZIvfoXpX7_"
   },
   "outputs": [],
   "source": [
    "df = pd.read_excel('data.xlsx', sheet_name='Sheet1')\n",
    "print(df.head())\n",
    "\n",
    "df.to_excel(\"output.xlsx\", sheet_name='Sheet2')"
   ]
  },
  {
   "cell_type": "markdown",
   "metadata": {
    "id": "zdDkzXjGpyWS"
   },
   "source": [
    "# JSON Files"
   ]
  },
  {
   "cell_type": "code",
   "execution_count": null,
   "metadata": {
    "id": "eU0AMzkMpwO9"
   },
   "outputs": [],
   "source": [
    "df_json = pd.read_json('data.json')\n",
    "print(df_json.head())"
   ]
  },
  {
   "cell_type": "markdown",
   "metadata": {
    "id": "T0PnPOAgqAsX"
   },
   "source": [
    "# SQL Databases"
   ]
  },
  {
   "cell_type": "code",
   "execution_count": null,
   "metadata": {
    "id": "6HyNcuG-qDJ1"
   },
   "outputs": [],
   "source": [
    "import sqlite3\n",
    "conn = sqlite3.connect('example.db')\n",
    "df_sql = pd.read_sql_query(\"SELECT * FROM table_name\", conn)\n",
    "print(df_sql.head())"
   ]
  },
  {
   "cell_type": "markdown",
   "metadata": {
    "id": "Ktk9UU8hqHHC"
   },
   "source": [
    "# API"
   ]
  },
  {
   "cell_type": "code",
   "execution_count": null,
   "metadata": {
    "id": "mnlPUPY8qIT2"
   },
   "outputs": [],
   "source": [
    "import requests\n",
    "response = requests.get('https://api.example.com/data')\n",
    "data = response.json()\n",
    "df_api = pd.DataFrame(data)\n",
    "print(df_api.head())"
   ]
  },
  {
   "cell_type": "markdown",
   "metadata": {
    "id": "gDyyVJySsY_m"
   },
   "source": [
    "## Numpy File Handling"
   ]
  },
  {
   "cell_type": "markdown",
   "metadata": {
    "id": "DzGth72CsgdF"
   },
   "source": [
    "## Saving NumPy Arrays\n",
    "You can save arrays in both binary .npy format and compressed .npz format."
   ]
  },
  {
   "cell_type": "code",
   "execution_count": null,
   "metadata": {
    "id": "PjZ3Kk6Csc7a"
   },
   "outputs": [],
   "source": [
    "import numpy as np\n",
    "\n",
    "array = np.array([1, 2, 3, 4, 5])\n",
    "\n",
    "np.save(\"array.npy\", array)\n",
    "print(\"Array saved as 'array.npy'\")"
   ]
  },
  {
   "cell_type": "code",
   "execution_count": null,
   "metadata": {
    "id": "i6t9KMxnsoXQ"
   },
   "outputs": [],
   "source": [
    "array1 = np.array([1, 2, 3])\n",
    "array2 = np.array([4, 5, 6])\n",
    "\n",
    "np.savez(\"arrays.npz\", array1=array1, array2=array2)\n",
    "print(\"Arrays saved as 'arrays.npz'\")"
   ]
  },
  {
   "cell_type": "markdown",
   "metadata": {
    "id": "ho-DekPEsyCE"
   },
   "source": [
    "## Loading NumPy Files"
   ]
  },
  {
   "cell_type": "code",
   "execution_count": null,
   "metadata": {
    "id": "hae8lXMvszVl"
   },
   "outputs": [],
   "source": [
    "loaded_array = np.load(\"array.npy\")\n",
    "print(\"Loaded array:\", loaded_array)\n",
    "\n",
    "loaded_arrays = np.load(\"arrays.npz\")\n",
    "print(\"Array1:\", loaded_arrays['array1'])\n",
    "print(\"Array2:\", loaded_arrays['array2'])"
   ]
  },
  {
   "cell_type": "markdown",
   "metadata": {
    "id": "YoSLz6xLtAuB"
   },
   "source": [
    "## Text Files with Numpy"
   ]
  },
  {
   "cell_type": "code",
   "execution_count": null,
   "metadata": {
    "id": "8xFOgUJAtDa1"
   },
   "outputs": [],
   "source": [
    "np.savetxt(\"array.txt\", array, delimiter=\",\")\n",
    "print(\"Array saved as 'array.txt'\")\n",
    "\n",
    "loaded_array_txt = np.loadtxt(\"array.txt\", delimiter=\",\")\n",
    "print(\"Loaded array from text file:\", loaded_array_txt)"
   ]
  },
  {
   "cell_type": "markdown",
   "metadata": {
    "id": "WkzjMONmtsLP"
   },
   "source": [
    "# Python os Library: Tutorial and Best Practices\n",
    "\n",
    "The os library in Python provides a way to interact with the operating system, such as file and directory operations, environment variables, and more."
   ]
  },
  {
   "cell_type": "markdown",
   "metadata": {
    "id": "M1JIHiyBt0UJ"
   },
   "source": [
    "## Importing the Library"
   ]
  },
  {
   "cell_type": "code",
   "execution_count": null,
   "metadata": {
    "id": "xTP0xB99tJfx"
   },
   "outputs": [],
   "source": [
    "import os"
   ]
  },
  {
   "cell_type": "markdown",
   "metadata": {
    "id": "LexEaLknt5dB"
   },
   "source": [
    "##  File and Directory Operations"
   ]
  },
  {
   "cell_type": "code",
   "execution_count": null,
   "metadata": {
    "id": "cofmgcCRt3Tt"
   },
   "outputs": [],
   "source": [
    "# Get Current Working Directory\n",
    "cwd = os.getcwd()\n",
    "print(f\"Current Working Directory: {cwd}\")\n",
    "\n",
    "# Change Directory\n",
    "os.chdir('/path/to/directory')\n",
    "print(f\"Changed to: {os.getcwd()}\")\n",
    "\n",
    "# Create a Directory\n",
    "os.mkdir('new_folder')\n",
    "os.makedirs('new_folder/sub_folder')\n",
    "\n",
    "# Remove a Directory\n",
    "os.rmdir('new_folder')\n",
    "os.removedirs('new_folder/sub_folder')\n",
    "\n",
    "# List Files in a Directory\n",
    "files = os.listdir('.')\n",
    "print(\"Files in current directory:\", files)\n",
    "\n",
    "# Check if a Path Exists\n",
    "if os.path.exists('example.txt'):\n",
    "    print(\"File exists\")\n",
    "else:\n",
    "    print(\"File does not exist\")\n",
    "\n",
    "# Rename a File or Directory\n",
    "os.rename('old_name.txt', 'new_name.txt')\n",
    "\n",
    "# Delete a File\n",
    "os.remove('example.txt')"
   ]
  },
  {
   "cell_type": "markdown",
   "metadata": {
    "id": "hudmK8Dyuwlb"
   },
   "source": [
    "## File Path Operations"
   ]
  },
  {
   "cell_type": "code",
   "execution_count": null,
   "metadata": {
    "id": "4FBFUx6Kuyk6"
   },
   "outputs": [],
   "source": [
    "# Join Paths\n",
    "full_path = os.path.join('folder', 'subfolder', 'file.txt')\n",
    "print(f\"Full Path: {full_path}\")\n",
    "\n",
    "# Split Path\n",
    "path, file = os.path.split('/folder/file.txt')\n",
    "print(f\"Path: {path}, File: {file}\")\n",
    "\n",
    "# Get File Extension\n",
    "filename, extension = os.path.splitext('file.txt')\n",
    "print(f\"Filename: {filename}, Extension: {extension}\")\n",
    "\n",
    "# Get Absolute Path\n",
    "absolute_path = os.path.abspath('example.txt')\n",
    "print(f\"Absolute Path: {absolute_path}\")"
   ]
  },
  {
   "cell_type": "markdown",
   "metadata": {
    "id": "_GeFM06zvGgM"
   },
   "source": [
    "## Running System Commands"
   ]
  },
  {
   "cell_type": "code",
   "execution_count": null,
   "metadata": {
    "id": "F_fTaj2HvIjS"
   },
   "outputs": [],
   "source": [
    "os.system('ls')  # For Unix/Linux/Mac\n",
    "os.system('dir')  # For Windows\n",
    "\n",
    "\n",
    "import subprocess\n",
    "subprocess.run(['ls', '-l'])  # Safer than os.system('ls -l')\n",
    "\n",
    "# Exception Handling\n",
    "try:\n",
    "    os.mkdir('folder')\n",
    "except FileExistsError:\n",
    "    print(\"Directory already exists\")\n"
   ]
  },
  {
   "cell_type": "markdown",
   "metadata": {
    "id": "WHmumLFIasmK"
   },
   "source": [
    "# PyYAML"
   ]
  },
  {
   "cell_type": "code",
   "execution_count": null,
   "metadata": {
    "id": "nejUI9QtavLQ"
   },
   "outputs": [],
   "source": [
    "import yaml\n",
    "\n",
    "with open(os.path.join(CONFIG_PATH, \"config.yaml\")) as file:\n",
    "        config = yaml.safe_load(file)\n",
    "\n",
    "# Config.yaml will contain info like\n",
    "# min_threshold: 0.6\n",
    "# moisture_threshold: 16000"
   ]
  },
  {
   "cell_type": "markdown",
   "metadata": {
    "id": "-xkYsKJRbfdK"
   },
   "source": [
    "# Working with Images"
   ]
  },
  {
   "cell_type": "code",
   "execution_count": null,
   "metadata": {
    "id": "ZMOKGETlbDLg"
   },
   "outputs": [],
   "source": [
    "!pip install pillow opencv-python matplotlib\n",
    "\n",
    "from PIL import Image\n",
    "\n",
    "image = Image.open(\"example.jpg\")\n",
    "\n",
    "image.show()"
   ]
  },
  {
   "cell_type": "markdown",
   "metadata": {
    "id": "BZiOCM82bqku"
   },
   "source": [
    "# Working with Audio Files"
   ]
  },
  {
   "cell_type": "code",
   "execution_count": null,
   "metadata": {
    "id": "Du3LRbaKbpeg"
   },
   "outputs": [],
   "source": []
  }
 ],
 "metadata": {
  "colab": {
   "provenance": []
  },
  "kernelspec": {
   "display_name": ".venv",
   "language": "python",
   "name": "python3"
  },
  "language_info": {
   "name": "python",
   "version": "3.13.0"
  }
 },
 "nbformat": 4,
 "nbformat_minor": 0
}
