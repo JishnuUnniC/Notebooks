{
 "cells": [
  {
   "cell_type": "markdown",
   "metadata": {
    "id": "6aRvzWzbhcnp"
   },
   "source": [
    "#Data Acquisition Case Study"
   ]
  },
  {
   "cell_type": "markdown",
   "metadata": {
    "id": "734JDyUNq8fH"
   },
   "source": [
    "## Q1. Write Python code to create a new file named \"sample_data.txt\" in your documents folder and write the following content to it\n",
    "\n",
    "ICTAK\n",
    "\n",
    "Thejaswini,\n",
    "\n",
    "Technopark Rd,\n",
    "\n",
    "Technopark Campus,\n",
    "\n",
    "Thiruvananthapuram,\n",
    "\n",
    "Kerala 695581"
   ]
  },
  {
   "cell_type": "code",
   "execution_count": 77,
   "metadata": {},
   "outputs": [
    {
     "name": "stdout",
     "output_type": "stream",
     "text": [
      "Current Working Directory: c:\\ICT_Files\\Project_sample\n"
     ]
    }
   ],
   "source": [
    "import os\n",
    "\n",
    "cwd = os.getcwd()\n",
    "print(f\"Current Working Directory: {cwd}\")"
   ]
  },
  {
   "cell_type": "code",
   "execution_count": 78,
   "metadata": {
    "id": "ieKhqBr-nl7s"
   },
   "outputs": [
    {
     "name": "stdout",
     "output_type": "stream",
     "text": [
      "Creating a file and naming it sample_data.txt.\n"
     ]
    }
   ],
   "source": [
    "# Write your code here\n",
    "import os\n",
    "\n",
    "if os.path.exists(os.path.join(\"C:\\\\\",\"Users\",\"Jishnu Unni C\",\"Documents\",\"sample_data.txt\")):\n",
    "    print(\"File exists.\")\n",
    "else:\n",
    "    print(\"Creating a file and naming it sample_data.txt.\")\n",
    "    with open(os.path.join(\"C:\\\\\",\"Users\",\"Jishnu Unni C\",\"Documents\",\"sample_data.txt\"), \"w\") as file:\n",
    "        file.write(\"ICTAK\")\n",
    "\n",
    "with open(os.path.join(\"C:\\\\\",\"Users\",\"Jishnu Unni C\",\"Documents\",\"sample_data.txt\"), \"a\") as file:\n",
    "    file.write(\"\\nThejaswini,\")\n",
    "    file.write(\"\\nTechnopark Rd,\")\n",
    "    file.write(\"\\nTechnopark Campus,\")\n",
    "    file.write(\"\\nThiruvananthapuram,\")\n",
    "    file.write(\"\\nKerala 695581,\")"
   ]
  },
  {
   "cell_type": "markdown",
   "metadata": {
    "id": "aJ6hQOJpimNv"
   },
   "source": [
    "## Q2. Write Python code to read and print the contents in \"sample_data.txt\""
   ]
  },
  {
   "cell_type": "code",
   "execution_count": 79,
   "metadata": {
    "id": "vRnilPQgnrPG"
   },
   "outputs": [
    {
     "name": "stdout",
     "output_type": "stream",
     "text": [
      "ICTAK\n",
      "\n",
      "Thejaswini,\n",
      "\n",
      "Technopark Rd,\n",
      "\n",
      "Technopark Campus,\n",
      "\n",
      "Thiruvananthapuram,\n",
      "\n",
      "Kerala 695581,\n"
     ]
    }
   ],
   "source": [
    "# Write your code here\n",
    "with open(os.path.join(\"C:\\\\\",\"Users\",\"Jishnu Unni C\",\"Documents\",\"sample_data.txt\"), \"r\") as file:\n",
    "    for line in file:\n",
    "        print(line)                 # prints every line including new lines\n",
    "        #print(line.strip())        # prints every line excluding new lines"
   ]
  },
  {
   "cell_type": "markdown",
   "metadata": {
    "id": "9aHquDcErda-"
   },
   "source": [
    "## Q3. Write Python code to check if \"sample_data.txt\" exists in documents folder"
   ]
  },
  {
   "cell_type": "code",
   "execution_count": 80,
   "metadata": {
    "id": "vY5TEsxunsKh"
   },
   "outputs": [
    {
     "name": "stdout",
     "output_type": "stream",
     "text": [
      "File exists.\n"
     ]
    }
   ],
   "source": [
    "# Write your code here\n",
    "if os.path.exists(os.path.join(\"C:\\\\\",\"Users\",\"Jishnu Unni C\",\"Documents\",\"sample_data.txt\")):\n",
    "    print(\"File exists.\")\n",
    "else:\n",
    "    print(\"File does not exist.\")"
   ]
  },
  {
   "cell_type": "markdown",
   "metadata": {
    "id": "BCWITkmopblI"
   },
   "source": [
    "## Q4: Save the following dataframe content to a CSV file (data.csv) in your downloads folder"
   ]
  },
  {
   "cell_type": "code",
   "execution_count": 81,
   "metadata": {
    "id": "r3THwBOGpP9F"
   },
   "outputs": [],
   "source": [
    "import pandas as pd\n",
    "\n",
    "data = {\"Id\": [1, 2, 3],\n",
    "        \"Name\": [\"Alice\", \"Bob\", \"Charlie\"],\n",
    "        \"Subject\": [\"Science\", \"Maths\", \"History\"]}\n",
    "df = pd.DataFrame(data)"
   ]
  },
  {
   "cell_type": "code",
   "execution_count": 82,
   "metadata": {
    "id": "Joc7XafnntaG"
   },
   "outputs": [],
   "source": [
    "# Write your code here\n",
    "df.to_csv(os.path.join(\"C:\\\\\",\"Users\",\"Jishnu Unni C\",\"Downloads\",\"data.csv\"))"
   ]
  },
  {
   "cell_type": "markdown",
   "metadata": {
    "id": "VF0nJjGElq0A"
   },
   "source": [
    "## Q5: Save the above dataframe content to an Excel (data.xlsx, sheet name: Sheet1) file in your documents folder"
   ]
  },
  {
   "cell_type": "code",
   "execution_count": 83,
   "metadata": {
    "id": "ZtOFb7ZJnu1m"
   },
   "outputs": [],
   "source": [
    "# Write your code here\n",
    "df.to_excel(os.path.join(\"C:\\\\\",\"Users\",\"Jishnu Unni C\",\"Documents\",\"data.xlsx\"), sheet_name=\"Sheet1\")"
   ]
  },
  {
   "cell_type": "markdown",
   "metadata": {
    "id": "amF6kxMQmdgF"
   },
   "source": [
    "## Q6. Write code to get the list of files in your Downloads folder and save it to a CSV file name \"download_list.csv\""
   ]
  },
  {
   "cell_type": "code",
   "execution_count": 84,
   "metadata": {
    "id": "nVP86z3dnvwz"
   },
   "outputs": [
    {
     "name": "stdout",
     "output_type": "stream",
     "text": [
      "Files in current directory: ['(Modern Problems in Condensed Matter Sciences 21) A.A. KAPLYANSKII and R.M. MACFARLANE (Eds.) - Spectroscopy of Solids Containing Rare Earth Ions-Elsevier Science Ltd (1987).pdf', '1638932058_fullstackdevelopment.pdf', '1638932197_codeofconduct.pdf', 'Afternoon Slot Students list 18-03-2023.xlsx', 'Album Details - M.Tech AI.docx', 'Anaconda3-2022.05-Windows-x86_64.exe', 'Bebas_Neue', 'Bebas_Neue.zip', 'Bike_Sharing', 'BraveBrowserSetup.exe', 'brochure-14.pdf', 'Case_Study_SQL_Questions.ipynb', 'CB.EN.P2AIE22019_Correction1 (1).pdf', 'CB.EN.P2AIE22019_Correction1 (2).pdf', 'CB.EN.P2AIE22019_Correction1 (3).pdf', 'CB.EN.P2AIE22019_Correction1.docx', 'CB.EN.P2AIE22019_Correction1.pdf', 'CB.EN.P2AIE22019_Resume.pdf', 'cb_en_p2aie22019.zip', 'CertificateOfCompletion_Communication Foundations 2018 (1).pdf', 'CertificateOfCompletion_Communication Foundations 2018 (2).pdf', 'CertificateOfCompletion_Communication Foundations 2018 (3).pdf', 'CertificateOfCompletion_Communication Foundations 2018.pdf', 'data.csv', 'DaVinci_Resolve_17.4.6_Windows', 'desktop.ini', 'Docker Desktop Installer.exe', 'Documents to upload', 'download_list.csv', 'DSA.zip', 'dST_SrDeveloper_CD2 (1).pdf', 'dST_SrDeveloper_CD2 (2).pdf', 'dST_SrDeveloper_CD2 (3).pdf', 'dST_SrDeveloper_CD2 (4).pdf', 'dST_SrDeveloper_CD2 (5).pdf', 'dST_SrDeveloper_CD2 (6).pdf', 'dST_SrDeveloper_CD2 (7).pdf', 'dST_SrDeveloper_CD2 (8).pdf', 'dST_SrDeveloper_CD2.pdf', 'Ex_Files_Communication_Foundations.zip', 'Form8_S11051O8R0710241200000.pdf.pdf', 'Git-2.35.1.2-64-bit.exe', 'GitHubDesktopSetup-x64.exe', 'Glossary_Communication_Foundations (1).zip', 'Glossary_Communication_Foundations (2).zip', 'Glossary_Communication_Foundations (3).zip', 'Glossary_Communication_Foundations (4).zip', 'Glossary_Communication_Foundations (5).zip', 'Glossary_Communication_Foundations.zip', 'hadoop-2.7.1', 'hadoop-2.7.1.tar.gz', 'InitiateSingleEntryPaymentSummary15-12-2023.pdf', 'Introduction.ipynb', 'jdk-20_windows-x64_bin.exe', 'JishnuUnniC_Amrita.pdf', 'JishnuUnni_With Photo (1).docx', 'JishnuUnni_With Photo.pdf', 'kafka_2.13-3.5.0', 'kafka_2.13-3.5.0.tgz', 'kafka_self_tut480.mov', 'Law.Abiding.Citizen.English-WWW.MY-SUBS.CO.srt', 'Le Castle Vania - Blood Code - Himmel und Hölle (From John Wick- Chapter 4).mp4', 'Linear algebra.zip', 'mysql-installer-community-8.0.40.0.msi', 'Notion Setup 2.2.1.exe', 'Numpy.pdf', 'pycharm-community-2023.1.3.exe', 'python-3.11.0-amd64.exe', 'python-3.11.4-amd64.exe', 'python-3.13.0-amd64.exe', 'Review1_Report.pdf', 'road-rash.zip', 'Roman.J.Israel.Esq.English-WWW.MY-SUBS.CO.srt', 'ScienceDirect_articles_10May2024_12-25-36.285.zip', 'spark-3.3.2-bin-hadoop2.tgz', 'spark-3.4.1-bin-hadoop3', 'spark-3.4.1-bin-hadoop3.tgz', 'SQLServer2022-x64-ENU-Dev.iso', 'SUBDL.com__the.girl.on.the.train.20161482008.zip', 'TableauPublicDesktop-64bit-2023-3-1.exe', 'TableauPublicDesktop-64bit-2024-3-0.exe', 'Tentative Course List (Jan - April 2024).xlsx', 'timesData (1).csv', 'timesData.csv', 'TreeFinal.py', 'Virtual_competition.ipynb', 'Virtual_competition.zip', 'VisualStudioSetup.exe', 'vlc-3.0.16-win64.exe', 'VSCodeUserSetup-x64-1.72.0.exe', 'VSCodeUserSetup-x64-1.79.2.exe', 'winutils-master', 'winutils-master.zip', 'WishCard.png', 'world_population.csv', 'wsl_update_x64.msi', 'Zoom_cm_fhb4Z9vvrZo4_m6m9ipw9J-nA2h2ADmOeNpC0CH7Smykbuuqcn@n2A0YN-5pdTKoYEA_kdb246fe022a4d0d8_.exe', 'Zoom_cm_fo42pnktZ9vvrZo4_mIhBj6IhVYcVsbR7V7EzlW9CowGOTxbybxuYH@VMUbyOMrj0igKeY5_kf7204f4f813087ab_.exe']\n"
     ]
    }
   ],
   "source": [
    "# Write your code here\n",
    "files = os.listdir(os.path.join(\"C:\\\\\",\"Users\",\"Jishnu Unni C\",\"Downloads\"))\n",
    "print(\"Files in current directory:\", files)\n",
    "#lst_files =[]\n",
    "df_listFiles=pd.DataFrame(os.listdir(os.path.join(\"C:\\\\\",\"Users\",\"Jishnu Unni C\",\"Downloads\")))\n",
    "df_listFiles.to_csv(os.path.join(\"C:\\\\\",\"Users\",\"Jishnu Unni C\",\"Downloads\",\"download_list.csv\"))\n",
    "        "
   ]
  },
  {
   "cell_type": "markdown",
   "metadata": {
    "id": "vR7I4R5bnV2w"
   },
   "source": [
    "## Q7. Write Python code to save the contents of the given random_array variable as a numpy file"
   ]
  },
  {
   "cell_type": "code",
   "execution_count": 85,
   "metadata": {
    "id": "vHXYRxnDnJzA"
   },
   "outputs": [],
   "source": [
    "import numpy as np\n",
    "random_array = np.random.rand(10, 10)"
   ]
  },
  {
   "cell_type": "code",
   "execution_count": 86,
   "metadata": {
    "id": "ihhSKJF9n3NP"
   },
   "outputs": [],
   "source": [
    "# Write your code here\n",
    "np.save(\"random_array.npy\", random_array)"
   ]
  },
  {
   "cell_type": "markdown",
   "metadata": {
    "id": "V7XfHgGAzNIl"
   },
   "source": [
    "## Q8. Write python code to save the contents of the above numpy file as text file named \"random.txt\" with a delimitter of \";\" to Documents folder"
   ]
  },
  {
   "cell_type": "code",
   "execution_count": 87,
   "metadata": {
    "id": "Du3LRbaKbpeg"
   },
   "outputs": [],
   "source": [
    "# Write your code here\n",
    "np.savetxt(os.path.join(\"C:\\\\\",\"Users\",\"Jishnu Unni C\",\"Documents\",\"random.txt\"), random_array, delimiter=\";\")"
   ]
  },
  {
   "cell_type": "markdown",
   "metadata": {
    "id": "nJSaX0Rg151y"
   },
   "source": [
    "## Download and analyze Bike Sharing Dataset (hour.csv) for UCI Irvin Repository (https://archive.ics.uci.edu/dataset/275/bike+sharing+dataset) and answer the following questions"
   ]
  },
  {
   "cell_type": "markdown",
   "metadata": {
    "id": "-wt4mxq32U6H"
   },
   "source": [
    "## Q9. What is the size of the dataset? (Number of rows and columns)\n",
    "\n"
   ]
  },
  {
   "cell_type": "code",
   "execution_count": 88,
   "metadata": {
    "id": "Pj0I0JhF2EEg"
   },
   "outputs": [
    {
     "name": "stdout",
     "output_type": "stream",
     "text": [
      " hour.csv has Rows =  17379 columns =  17\n",
      " day.csv has Rows =  731 columns =  16\n"
     ]
    }
   ],
   "source": [
    "# Write your code here\n",
    "df_hour = pd.read_csv(os.path.join(\"C:\\\\\",\"Users\",\"Jishnu Unni C\",\"Downloads\",\"Bike_Sharing\",\"hour.csv\"))\n",
    "df_day = pd.read_csv(os.path.join(\"C:\\\\\",\"Users\",\"Jishnu Unni C\",\"Downloads\",\"Bike_Sharing\",\"day.csv\"))\n",
    "\n",
    "rows, columns =df_hour.shape\n",
    "print(\" hour.csv has Rows = \",rows, \"columns = \", columns)\n",
    "\n",
    "rows, columns =df_day.shape\n",
    "print(\" day.csv has Rows = \",rows, \"columns = \", columns)\n"
   ]
  },
  {
   "cell_type": "markdown",
   "metadata": {
    "id": "GbDnC_i438m8"
   },
   "source": [
    "## Q10. What are the data types of each column?\n"
   ]
  },
  {
   "cell_type": "code",
   "execution_count": 89,
   "metadata": {
    "id": "_YJIqJEZ3-DC"
   },
   "outputs": [
    {
     "name": "stdout",
     "output_type": "stream",
     "text": [
      "instant         int64\n",
      "dteday         object\n",
      "season          int64\n",
      "yr              int64\n",
      "mnth            int64\n",
      "hr              int64\n",
      "holiday         int64\n",
      "weekday         int64\n",
      "workingday      int64\n",
      "weathersit      int64\n",
      "temp          float64\n",
      "atemp         float64\n",
      "hum           float64\n",
      "windspeed     float64\n",
      "casual          int64\n",
      "registered      int64\n",
      "cnt             int64\n",
      "dtype: object\n"
     ]
    }
   ],
   "source": [
    "# Write your code here\n",
    "print(df_hour.dtypes)"
   ]
  },
  {
   "cell_type": "markdown",
   "metadata": {
    "id": "zi0jHMq-3_NI"
   },
   "source": [
    "## Q11. Are there any missing values in the dataset? If so, which columns have missing values and how many?"
   ]
  },
  {
   "cell_type": "code",
   "execution_count": 90,
   "metadata": {
    "id": "mct7F2M-3-kQ"
   },
   "outputs": [
    {
     "name": "stdout",
     "output_type": "stream",
     "text": [
      "instant       0\n",
      "dteday        0\n",
      "season        0\n",
      "yr            0\n",
      "mnth          0\n",
      "hr            0\n",
      "holiday       0\n",
      "weekday       0\n",
      "workingday    0\n",
      "weathersit    0\n",
      "temp          0\n",
      "atemp         0\n",
      "hum           0\n",
      "windspeed     0\n",
      "casual        0\n",
      "registered    0\n",
      "cnt           0\n",
      "dtype: int64\n"
     ]
    }
   ],
   "source": [
    "# Write your code here\n",
    "print(df_hour.isnull().sum())"
   ]
  },
  {
   "cell_type": "markdown",
   "metadata": {
    "id": "Ew__56Iq4BMK"
   },
   "source": [
    "## Q.12. For the windspeed column, calculate the mean, median, and standard deviation."
   ]
  },
  {
   "cell_type": "code",
   "execution_count": 91,
   "metadata": {
    "id": "ucijLTNA4Clr"
   },
   "outputs": [
    {
     "name": "stdout",
     "output_type": "stream",
     "text": [
      "For column 'windspeed'\n",
      "mean =  0.1900976063064618\n",
      "median =  0.194\n",
      "standard deviation =  0.12234022857279049\n"
     ]
    }
   ],
   "source": [
    "# Write your code here\n",
    "print(\"For column 'windspeed'\")\n",
    "print(\"mean = \" , df_hour.windspeed.mean())\n",
    "print(\"median = \" , df_hour.windspeed.median())\n",
    "print(\"standard deviation = \" , df_hour.windspeed.std())"
   ]
  },
  {
   "cell_type": "markdown",
   "metadata": {
    "id": "3dHaYtuP4C78"
   },
   "source": [
    "## Q13. Identify any potential outliers in a numerical column of your choice. Explain your approach.\n"
   ]
  },
  {
   "cell_type": "code",
   "execution_count": 92,
   "metadata": {
    "id": "nVkU-okb4EiU"
   },
   "outputs": [
    {
     "name": "stdout",
     "output_type": "stream",
     "text": [
      "          instant        season            yr          mnth            hr  \\\n",
      "count  17379.0000  17379.000000  17379.000000  17379.000000  17379.000000   \n",
      "mean    8690.0000      2.501640      0.502561      6.537775     11.546752   \n",
      "std     5017.0295      1.106918      0.500008      3.438776      6.914405   \n",
      "min        1.0000      1.000000      0.000000      1.000000      0.000000   \n",
      "25%     4345.5000      2.000000      0.000000      4.000000      6.000000   \n",
      "50%     8690.0000      3.000000      1.000000      7.000000     12.000000   \n",
      "75%    13034.5000      3.000000      1.000000     10.000000     18.000000   \n",
      "max    17379.0000      4.000000      1.000000     12.000000     23.000000   \n",
      "\n",
      "            holiday       weekday    workingday    weathersit          temp  \\\n",
      "count  17379.000000  17379.000000  17379.000000  17379.000000  17379.000000   \n",
      "mean       0.028770      3.003683      0.682721      1.425283      0.496987   \n",
      "std        0.167165      2.005771      0.465431      0.639357      0.192556   \n",
      "min        0.000000      0.000000      0.000000      1.000000      0.020000   \n",
      "25%        0.000000      1.000000      0.000000      1.000000      0.340000   \n",
      "50%        0.000000      3.000000      1.000000      1.000000      0.500000   \n",
      "75%        0.000000      5.000000      1.000000      2.000000      0.660000   \n",
      "max        1.000000      6.000000      1.000000      4.000000      1.000000   \n",
      "\n",
      "              atemp           hum     windspeed        casual    registered  \\\n",
      "count  17379.000000  17379.000000  17379.000000  17379.000000  17379.000000   \n",
      "mean       0.475775      0.627229      0.190098     35.676218    153.786869   \n",
      "std        0.171850      0.192930      0.122340     49.305030    151.357286   \n",
      "min        0.000000      0.000000      0.000000      0.000000      0.000000   \n",
      "25%        0.333300      0.480000      0.104500      4.000000     34.000000   \n",
      "50%        0.484800      0.630000      0.194000     17.000000    115.000000   \n",
      "75%        0.621200      0.780000      0.253700     48.000000    220.000000   \n",
      "max        1.000000      1.000000      0.850700    367.000000    886.000000   \n",
      "\n",
      "                cnt  \n",
      "count  17379.000000  \n",
      "mean     189.463088  \n",
      "std      181.387599  \n",
      "min        1.000000  \n",
      "25%       40.000000  \n",
      "50%      142.000000  \n",
      "75%      281.000000  \n",
      "max      977.000000  \n",
      " From the analysis, it is possible that 'cnt' and 'registered' values might have outliers. Checking it using IQR\n",
      " For 'registered' column\n"
     ]
    }
   ],
   "source": [
    "# Write your code here\n",
    "def get_no_of_outliers (i_data_frame, columnName):\n",
    "\n",
    "    Q3=np.quantile(i_data_frame[\"columnName\"],0.75)\n",
    "    Q1=np.quantile(i_data_frame[\"columnName\"],0.25)\n",
    "\n",
    "    IQR= Q3-Q1\n",
    "\n",
    "    upper_lim = Q3+ (IQR*1.5)\n",
    "    lower_lim = Q1- (IQR*1.5)\n",
    "\n",
    "    df_outliers = i_data_frame[(i_data_frame[\"columnName\"] < lower_lim) | (i_data_frame[\"columnName\"] > upper_lim)]\n",
    "    print(\" number of outliers based on data from column \", columnName)\n",
    "    return(df_outliers)\n",
    "\n",
    "\n",
    "print(df_hour.describe())\n",
    "print(\" From the analysis, it is possible that 'cnt' and 'registered' values might have outliers. Checking it using IQR\")\n",
    "print(\" For 'registered' column\")\n",
    "\n",
    "    \n",
    "\n",
    "Q1_reg= df_hour.registered"
   ]
  },
  {
   "cell_type": "markdown",
   "metadata": {
    "id": "14sUq8ZF4E88"
   },
   "source": [
    "## Q.14 Find the correlation between numerical columns and discuss any interesting relationships."
   ]
  },
  {
   "cell_type": "code",
   "execution_count": 93,
   "metadata": {
    "id": "jnAOuuwt4Hmb"
   },
   "outputs": [
    {
     "name": "stdout",
     "output_type": "stream",
     "text": [
      "Correlation Heatmap \n",
      "\n",
      "\n",
      " From the heatmap, we see there are no strong negative correlation between any data.\n",
      " Strongest positive correlation is observed between count and registered columns. It shows most people would prefer to register the rental.\n",
      " another strong correlation cann be obnserved between temp and atemp columns as well.\n",
      " the expected correlation between Month data and season data also can be observed.\n",
      " another expecrted correlation is between weathersit column and humidity.\n",
      " windspeed doesn't seem to have any significamnt correlation with any data.\n"
     ]
    },
    {
     "data": {
      "image/png": "[encoded data removed]",
      "text/plain": [
       "<Figure size 640x480 with 2 Axes>"
      ]
     },
     "metadata": {},
     "output_type": "display_data"
    }
   ],
   "source": [
    "# Write your code here\n",
    "import seaborn as sns\n",
    "import matplotlib.pyplot as plt\n",
    "corr_matrix = df_hour[['instant', 'season', 'yr', 'mnth','hr', 'holiday', 'weekday','workingday', 'weathersit', 'temp', 'atemp', 'hum', 'windspeed', 'casual', 'registered', 'cnt']].corr()\n",
    "#instant\tdteday\tseason\tyr\tmnth\thr\tholiday\tweekday\tworkingday\tweathersit\ttemp\tatemp\thum\twindspeed\tcasual\tregistered\tcnt\n",
    "print(\"Correlation Heatmap \")\n",
    "\n",
    "cor_mat=np.array(corr_matrix)\n",
    "sns.heatmap(corr_matrix) \n",
    "\n",
    "print('\\n')\n",
    "print(\" From the heatmap, we see there are no strong negative correlation between any data.\")\n",
    "print(\" Strongest positive correlation is observed between count and registered columns. It shows most people would prefer to register the rental.\")\n",
    "print(\" another strong correlation cann be obnserved between temp and atemp columns as well.\")\n",
    "print(\" the expected correlation between Month data and season data also can be observed.\")\n",
    "print(\" another expecrted correlation is between weathersit column and humidity.\")\n",
    "print(\" windspeed doesn't seem to have any significamnt correlation with any data.\")"
   ]
  },
  {
   "cell_type": "markdown",
   "metadata": {
    "id": "ru-xlbd44IAY"
   },
   "source": [
    "## Q.15 Based on your analysis, provide a brief summary of any insights or patterns you discovered in the dataset."
   ]
  },
  {
   "cell_type": "code",
   "execution_count": 94,
   "metadata": {
    "id": "15NUIdxK4I03"
   },
   "outputs": [],
   "source": [
    "# Write your code here\n"
   ]
  },
  {
   "cell_type": "markdown",
   "metadata": {
    "id": "iMGro15Q5WhF"
   },
   "source": [
    "## Q.16 In which season (Spring, Summer, Fall, Winter) people rented bikes the most?"
   ]
  },
  {
   "cell_type": "code",
   "execution_count": 95,
   "metadata": {
    "id": "KhlVV_bK5jxm"
   },
   "outputs": [
    {
     "name": "stdout",
     "output_type": "stream",
     "text": [
      " Sum of counts is grouped by season and sorted by the most number of count:\n",
      " season\n",
      "3    1061129\n",
      "2     918589\n",
      "4     841613\n",
      "1     471348\n",
      "Name: cnt, dtype: int64\n",
      "\n",
      "\n",
      " From the readme file, season details are as follows 1:springer, 2:summer, 3:fall, 4:winter \n",
      " So, from the table, we can see 'Fall' has the number of people rented bikes most\n"
     ]
    }
   ],
   "source": [
    "# Write your code here\n",
    "\n",
    "df_season_cnt = df_hour.groupby('season')['cnt'].sum().sort_values(ascending=False)\n",
    "print(\" Sum of counts is grouped by season and sorted by the most number of count:\\n\", df_season_cnt)\n",
    "print('\\n')\n",
    "print(\" From the readme file, season details are as follows 1:springer, 2:summer, 3:fall, 4:winter \")\n",
    "print(\" So, from the table, we can see 'Fall' has the number of people rented bikes most\")\n"
   ]
  },
  {
   "cell_type": "markdown",
   "metadata": {
    "id": "eudb_1Lb5sVc"
   },
   "source": [
    "## Q.17 What is the peak hour in which bike rents the most?"
   ]
  },
  {
   "cell_type": "code",
   "execution_count": 96,
   "metadata": {
    "id": "p0xSgv8g50yt"
   },
   "outputs": [
    {
     "name": "stdout",
     "output_type": "stream",
     "text": [
      " So, from the table above, number of people rented bikes most is in the hour : \n",
      "hr\n",
      "17    336860\n",
      "Name: cnt, dtype: int64\n",
      "\n",
      " Number of people rented bikes most is in the hour : 17. ( 5 PM )\n"
     ]
    }
   ],
   "source": [
    "# Write your code here\n",
    "df_hour_cnt = df_hour.groupby('hr')['cnt'].sum().sort_values(ascending=False)\n",
    "#print(\" Sum of counts is grouped by hour and sorted by most numer of count:\\n\", df_hour_cnt)\n",
    "#print('\\n')\n",
    "print(\" So, from the table above, number of people rented bikes most is in the hour : \")\n",
    "print(df_hour_cnt.head(1))\n",
    "\n",
    "print('\\n'\" Number of people rented bikes most is in the hour : 17. ( 5 PM )\")\n"
   ]
  },
  {
   "cell_type": "markdown",
   "metadata": {
    "id": "y7rArqGQ6ji4"
   },
   "source": [
    "## Q.18 In which day of a week bikes rents out most?"
   ]
  },
  {
   "cell_type": "code",
   "execution_count": 97,
   "metadata": {
    "id": "6GPCbpsx6oYE"
   },
   "outputs": [
    {
     "name": "stdout",
     "output_type": "stream",
     "text": [
      "\n",
      "\n",
      " Inference from the readme file :\n",
      " Day 0 = Sunday, Day 1 = Monday, Day 2 = Tuesday, Day 3 = Wednesday, Day 4 = Thursday, Day 5 = Friday, Day 6 = Saturday\n",
      " So, from the table above, number of people rented bikes most is on the day : \n",
      "weekday\n",
      "5    487790\n",
      "Name: cnt, dtype: int64\n",
      "\n",
      " Number of people rented bikes most is on 'Friday'\n"
     ]
    }
   ],
   "source": [
    "# Write your code here\n",
    "df_day_cnt = df_hour.groupby('weekday')['cnt'].sum().sort_values(ascending=False)\n",
    "#print(\" Sum of counts is grouped by hour and sorted by most numer of count:\\n\", df_day_cnt)\n",
    "print('\\n')\n",
    "print(\" Inference from the readme file :\")\n",
    "#print(\" Day 6 = Saturday.\")\n",
    "print(\" Day 0 = Sunday, Day 1 = Monday, Day 2 = Tuesday, Day 3 = Wednesday, Day 4 = Thursday, Day 5 = Friday, Day 6 = Saturday\")\n",
    "print(\" So, from the table above, number of people rented bikes most is on the day : \")\n",
    "print(df_day_cnt.head(1))\n",
    "\n",
    "print('\\n'\" Number of people rented bikes most is on 'Friday'\")"
   ]
  },
  {
   "cell_type": "markdown",
   "metadata": {
    "id": "bFO_Twk66qw-"
   },
   "source": [
    "## Q.19 In which hour Casual users rents bikes the most?"
   ]
  },
  {
   "cell_type": "code",
   "execution_count": 98,
   "metadata": {
    "id": "59CHoEUt66GR"
   },
   "outputs": [
    {
     "name": "stdout",
     "output_type": "stream",
     "text": [
      " So, from the table above, number of casual people rented bikes most is in the hour : \n",
      "hr\n",
      "14    55089\n",
      "Name: casual, dtype: int64\n",
      "\n",
      " Number of casual people rented bikes most is in the hour : 14. ( 2 PM )\n"
     ]
    }
   ],
   "source": [
    "# Write your code here\n",
    "df_hour_casual = df_hour.groupby('hr')['casual'].sum().sort_values(ascending=False)\n",
    "#print(\" Sum of casual users are grouped by hour and sorted by most numer of casual users:\\n\", df_hour_casual)\n",
    "#print('\\n')\n",
    "print(\" So, from the table above, number of casual people rented bikes most is in the hour : \")\n",
    "print(df_hour_casual.head(1))\n",
    "\n",
    "print('\\n'\" Number of casual people rented bikes most is in the hour : 14. ( 2 PM )\")"
   ]
  },
  {
   "cell_type": "markdown",
   "metadata": {
    "id": "wtvgNN-U69rh"
   },
   "source": [
    "## Q.20 What is the maximum temperature observed in each of the seasons?"
   ]
  },
  {
   "cell_type": "code",
   "execution_count": 99,
   "metadata": {
    "id": "U_NwDHv57tLT"
   },
   "outputs": [
    {
     "name": "stdout",
     "output_type": "stream",
     "text": [
      " maximum value of temperatures seen in each season and sorted by the maximum temperature:\n",
      " season\n",
      "3    1.00\n",
      "2    0.94\n",
      "4    0.76\n",
      "1    0.72\n",
      "Name: temp, dtype: float64\n",
      "\n",
      "\n",
      " From the readme file, season details are as follows 1:springer, 2:summer, 3:fall, 4:winter \n",
      " From the readme file, we get normalized value for temperature.\n",
      " So, from the table, we can see 'Fall' has the maximum temperature\n",
      "\n",
      "\n",
      " maximum value of feeling temperatures seen in each season and sorted by the maximum feeling temperature:\n",
      " season\n",
      "3    1.0000\n",
      "2    0.8788\n",
      "4    0.6818\n",
      "1    0.6515\n",
      "Name: atemp, dtype: float64\n",
      "\n",
      "\n",
      " From the readme file, season details are as follows 1:springer, 2:summer, 3:fall, 4:winter \n",
      " From the readme file, we get normalized value for feeling temperature.\n",
      " So, from the table, we can see 'Fall' has the maximum feeling temperature\n"
     ]
    }
   ],
   "source": [
    "# Write your code here\n",
    "df_season_temp = df_hour.groupby('season')['temp'].max().sort_values(ascending=False)\n",
    "print(\" maximum value of temperatures seen in each season and sorted by the maximum temperature:\\n\", df_season_temp)\n",
    "print('\\n')\n",
    "print(\" From the readme file, season details are as follows 1:springer, 2:summer, 3:fall, 4:winter \")\n",
    "print(\" From the readme file, we get normalized value for temperature.\")\n",
    "print(\" So, from the table, we can see 'Fall' has the maximum temperature\")\n",
    "\n",
    "print('\\n')\n",
    "\n",
    "df_season_atemp = df_hour.groupby('season')['atemp'].max().sort_values(ascending=False)\n",
    "print(\" maximum value of feeling temperatures seen in each season and sorted by the maximum feeling temperature:\\n\", df_season_atemp)\n",
    "print('\\n')\n",
    "print(\" From the readme file, season details are as follows 1:springer, 2:summer, 3:fall, 4:winter \")\n",
    "print(\" From the readme file, we get normalized value for feeling temperature.\")\n",
    "print(\" So, from the table, we can see 'Fall' has the maximum feeling temperature\")"
   ]
  }
 ],
 "metadata": {
  "colab": {
   "provenance": []
  },
  "kernelspec": {
   "display_name": ".venv",
   "language": "python",
   "name": "python3"
  },
  "language_info": {
   "codemirror_mode": {
    "name": "ipython",
    "version": 3
   },
   "file_extension": ".py",
   "mimetype": "text/x-python",
   "name": "python",
   "nbconvert_exporter": "python",
   "pygments_lexer": "ipython3",
   "version": "3.13.0"
  }
 },
 "nbformat": 4,
 "nbformat_minor": 0
}
